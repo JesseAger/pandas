{
 "cells": [
  {
   "cell_type": "code",
   "execution_count": 1,
   "id": "00f0c5c1-c160-4c0c-ae06-c9fc8d72c66b",
   "metadata": {},
   "outputs": [],
   "source": [
    "import pandas as pd"
   ]
  },
  {
   "cell_type": "code",
   "execution_count": 6,
   "id": "9a6d8a61-9e0e-47cc-a068-1b0ac6c79cc9",
   "metadata": {},
   "outputs": [
    {
     "name": "stdout",
     "output_type": "stream",
     "text": [
      "    cars  pass countryOfOrigin\n",
      "0    BMW     3             USA\n",
      "1  VolVo     5          Russia\n",
      "2   Benz     9         Germany\n",
      "   calories  duration\n",
      "0       480        50\n",
      "1       380        40\n",
      "2       390        45\n"
     ]
    }
   ],
   "source": [
    "myVar = {'cars': [\"BMW\", \"VolVo\", \"Benz\"],\n",
    "         'pass': [3,5,9],\n",
    "         'countryOfOrigin':[\"USA\", \"Russia\", \"Germany\"]\n",
    "}\n",
    "\n",
    "pandasApplication = pd.DataFrame(myVar)\n",
    "print(pandasApplication)\n",
    "data = {\n",
    "    'calories':[480, 380, 390],\n",
    "    'duration':[50, 40, 45]\n",
    "}\n",
    "df = pd.DataFrame(data)\n",
    "print(df)"
   ]
  },
  {
   "cell_type": "code",
   "execution_count": 21,
   "id": "f1dca82b-e27d-4cf0-a153-ef55e6a1d241",
   "metadata": {},
   "outputs": [
    {
     "name": "stdout",
     "output_type": "stream",
     "text": [
      "   calories  duration\n",
      "0       480        50\n",
      "1       380        40\n",
      "2       390        45\n"
     ]
    }
   ],
   "source": [
    "print(df.loc[[0, 1, 2]])\n"
   ]
  },
  {
   "cell_type": "code",
   "execution_count": null,
   "id": "2f1d61df-c5b3-439d-a5b6-02de075d956d",
   "metadata": {},
   "outputs": [],
   "source": []
  }
 ],
 "metadata": {
  "kernelspec": {
   "display_name": "Python 3 (ipykernel)",
   "language": "python",
   "name": "python3"
  },
  "language_info": {
   "codemirror_mode": {
    "name": "ipython",
    "version": 3
   },
   "file_extension": ".py",
   "mimetype": "text/x-python",
   "name": "python",
   "nbconvert_exporter": "python",
   "pygments_lexer": "ipython3",
   "version": "3.12.0"
  }
 },
 "nbformat": 4,
 "nbformat_minor": 5
}
